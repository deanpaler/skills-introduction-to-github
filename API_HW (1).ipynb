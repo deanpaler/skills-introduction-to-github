{
  "nbformat": 4,
  "nbformat_minor": 0,
  "metadata": {
    "colab": {
      "provenance": []
    },
    "kernelspec": {
      "name": "python3",
      "display_name": "Python 3"
    },
    "language_info": {
      "name": "python"
    }
  },
  "cells": [
    {
      "cell_type": "markdown",
      "source": [
        "Learning Objective\n",
        "1.\tPut into practice using Python to interact and call a public API successfully\n",
        "2.\tLook at the data within JSON and DataFrames\n",
        "3.\tWrite your data to a local file (JSON)\n",
        "4.\tUse basic visualization to display information\n",
        "5.\tInteract with users\n",
        "\n",
        "Challenge:\n",
        "You have seen some examples of how to interact with JSON, CSV and make API Calls. Take some time to explore the YAHOO Finance Guide at https://financeapi.net/ which shows you endpoints for calling information. Your job is to code a Python Program that does the following things:\n",
        "\n",
        "1.\tTakes user input for a stock (using the Ticker Symbol): IE with the input() command\n",
        "2.\tYou will display back the user: Ticker Name, Full Name of the Stock, Current Market Price, Target Mean Price, 52 week high and 52 week low. Also, output 5 of the current trending stock.\n",
        "3.\tPut that data in a DataFrame and then store that to a CSV file\n",
        "4.\tHandle Errors (IE, the stock doesn’t exist and/or the API is not returning information)\n",
        "\n",
        "You will have to read the documentation and figure out which modules to call to get the data that you need. You will need to make more than one call to this API. Use the examples in our Zoom Session to guide you, but the documentation will be enough. Post your code to GitHub.\n",
        "\n",
        "Bonus –\n",
        "1.\tUse MatPlotLib to chart the historical price of a stock price’s highest value over the past 5 days.\n"
      ],
      "metadata": {
        "id": "h3YIUcMWL1-b"
      }
    },
    {
      "cell_type": "code",
      "execution_count": 33,
      "metadata": {
        "colab": {
          "base_uri": "https://localhost:8080/"
        },
        "collapsed": true,
        "id": "jUXZNMb9KjL7",
        "outputId": "c696feba-d95c-4f1c-9e43-cfaf79819b22"
      },
      "outputs": [
        {
          "output_type": "stream",
          "name": "stdout",
          "text": [
            "Enter the stock ticker symbol: aapl\n",
            "\n",
            "The Stock Information:\n",
            "Ticker: AAPL\n",
            "Full Name: Apple Inc.\n",
            "Current Price: 227.55\n",
            "Target Mean Price: N/A\n",
            "52 Week High: 237.23\n",
            "52 Week Low: 164.08\n",
            "\n",
            "The Top 5 Trending Stocks Information:\n",
            "UBER\n",
            "MSTR\n",
            "TSLA\n",
            "AFRM\n",
            "JPM\n",
            "\n",
            "Stock data saved to AAPL_stock_data.csv\n"
          ]
        }
      ],
      "source": [
        "import requests\n",
        "import json\n",
        "import pandas as pd\n",
        "import matplotlib.pyplot as plt\n",
        "\n",
        "def stock_info(ticker):\n",
        "    url = f'https://yfapi.net/v6/finance/quote?region=US&symbols={ticker}'\n",
        "    headers = {\n",
        "        'x-api-key': 'INSERT API HERE' # 6L6iNUzWTO8DRYF51cBqc6yC9CrruLkQEnTVQhye\n",
        "    }\n",
        "\n",
        "    response = requests.get(url, headers=headers)\n",
        "    if response.status_code == 200:\n",
        "        data = response.json()\n",
        "        if 'quoteResponse' in data and 'result' in data['quoteResponse'] and len(data['quoteResponse']['result']) > 0:\n",
        "            quote = data['quoteResponse']['result'][0]\n",
        "            return {\n",
        "                'Ticker': quote.get('symbol'),\n",
        "                'Full Name': quote.get('longName'),\n",
        "                'Current Price': quote.get('regularMarketPrice'),\n",
        "                'Target Mean Price': quote.get('targetMeanPrice', 'N/A'),\n",
        "                '52 Week High': quote.get('fiftyTwoWeekHigh'),\n",
        "                '52 Week Low': quote.get('fiftyTwoWeekLow')\n",
        "            }\n",
        "        else:\n",
        "            print(\"No data found for the ticker.\")\n",
        "            return None\n",
        "    else:\n",
        "        print(f\"Error in fetching stock data. Status code: {response.status_code}\")\n",
        "        return None\n",
        "\n",
        "def trending_stocks():\n",
        "    url = 'https://yfapi.net/v1/finance/trending/US'\n",
        "    headers = {\n",
        "        'x-api-key': 'INSERT API HERE' # 6L6iNUzWTO8DRYF51cBqc6yC9CrruLkQEnTVQhye\n",
        "    }\n",
        "\n",
        "    response = requests.get(url, headers=headers)\n",
        "    if response.status_code == 200:\n",
        "        data = response.json()\n",
        "        if 'finance' in data and 'result' in data['finance'] and len(data['finance']['result']) > 0:\n",
        "            return [stock['symbol'] for stock in data['finance']['result'][0]['quotes'][:5]]\n",
        "        else:\n",
        "            print(\"No trending stocks data found.\")\n",
        "            return []\n",
        "    else:\n",
        "        print(f\"Error in fetching trending stocks. Status code: {response.status_code}\")\n",
        "        return []\n",
        "\n",
        "def main():\n",
        "    ticker = input(\"Enter the stock ticker symbol: \").upper()\n",
        "    stock_data = stock_info(ticker)\n",
        "\n",
        "    if stock_data:\n",
        "        print(\"\\nThe Stock Information:\")\n",
        "        for key, value in stock_data.items():\n",
        "            print(f\"{key}: {value}\")\n",
        "\n",
        "        trending_tickers = trending_stocks()\n",
        "        if trending_tickers:\n",
        "            print(\"\\nThe Top 5 Trending Stocks Information:\")\n",
        "            for stock in trending_tickers:\n",
        "                print(stock)\n",
        "\n",
        "        # Create DF and save to a CSV\n",
        "        df = pd.DataFrame([stock_data])\n",
        "        df.to_csv(f'{ticker}_stock_data.csv', index=False)\n",
        "        print(f\"\\nStock data saved to {ticker}_stock_data.csv\")\n",
        "    else:\n",
        "        print(\"No stock data able to be shown.\")\n",
        "\n",
        "if __name__ == \"__main__\":\n",
        "    main()"
      ]
    }
  ]
}